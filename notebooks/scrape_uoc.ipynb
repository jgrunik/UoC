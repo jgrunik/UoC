{
 "cells": [
  {
   "cell_type": "markdown",
   "metadata": {},
   "source": [
    "# Scrape Unit of Competency\n",
    "---\n",
    "### ▶▶ Run All\n",
    "---"
   ]
  },
  {
   "cell_type": "code",
   "execution_count": 46,
   "metadata": {},
   "outputs": [
    {
     "name": "stdout",
     "output_type": "stream",
     "text": [
      "Defaulting to user installation because normal site-packages is not writeable\n",
      "Requirement already satisfied: beautifulsoup4==4.13.3 in c:\\users\\e9402338\\appdata\\roaming\\python\\python313\\site-packages (from -r ../requirements.txt (line 1)) (4.13.3)\n",
      "Requirement already satisfied: bs4==0.0.2 in c:\\users\\e9402338\\appdata\\roaming\\python\\python313\\site-packages (from -r ../requirements.txt (line 2)) (0.0.2)\n",
      "Requirement already satisfied: docxtpl==0.19.1 in c:\\users\\e9402338\\appdata\\roaming\\python\\python313\\site-packages (from -r ../requirements.txt (line 3)) (0.19.1)\n",
      "Requirement already satisfied: ipykernel==6.29.5 in c:\\users\\e9402338\\appdata\\roaming\\python\\python313\\site-packages (from -r ../requirements.txt (line 4)) (6.29.5)\n",
      "Requirement already satisfied: ipython==8.12.3 in c:\\users\\e9402338\\appdata\\roaming\\python\\python313\\site-packages (from -r ../requirements.txt (line 5)) (8.12.3)\n",
      "Requirement already satisfied: ipywidgets==8.1.5 in c:\\users\\e9402338\\appdata\\roaming\\python\\python313\\site-packages (from -r ../requirements.txt (line 6)) (8.1.5)\n",
      "Requirement already satisfied: lxml==5.3.1 in c:\\users\\e9402338\\appdata\\roaming\\python\\python313\\site-packages (from -r ../requirements.txt (line 7)) (5.3.1)\n",
      "Requirement already satisfied: nbformat==5.10.4 in c:\\users\\e9402338\\appdata\\roaming\\python\\python313\\site-packages (from -r ../requirements.txt (line 8)) (5.10.4)\n",
      "Requirement already satisfied: python-docx==1.1.2 in c:\\users\\e9402338\\appdata\\roaming\\python\\python313\\site-packages (from -r ../requirements.txt (line 9)) (1.1.2)\n",
      "Requirement already satisfied: requests_ntlm==1.3.0 in c:\\users\\e9402338\\appdata\\roaming\\python\\python313\\site-packages (from -r ../requirements.txt (line 10)) (1.3.0)\n",
      "Requirement already satisfied: requests==2.32.3 in c:\\users\\e9402338\\appdata\\roaming\\python\\python313\\site-packages (from -r ../requirements.txt (line 11)) (2.32.3)\n",
      "Requirement already satisfied: soupsieve>1.2 in c:\\users\\e9402338\\appdata\\roaming\\python\\python313\\site-packages (from beautifulsoup4==4.13.3->-r ../requirements.txt (line 1)) (2.6)\n",
      "Requirement already satisfied: typing-extensions>=4.0.0 in c:\\users\\e9402338\\appdata\\roaming\\python\\python313\\site-packages (from beautifulsoup4==4.13.3->-r ../requirements.txt (line 1)) (4.13.0)\n",
      "Requirement already satisfied: docxcompose in c:\\users\\e9402338\\appdata\\roaming\\python\\python313\\site-packages (from docxtpl==0.19.1->-r ../requirements.txt (line 3)) (1.4.0)\n",
      "Requirement already satisfied: jinja2 in c:\\users\\e9402338\\appdata\\roaming\\python\\python313\\site-packages (from docxtpl==0.19.1->-r ../requirements.txt (line 3)) (3.1.6)\n",
      "Requirement already satisfied: comm>=0.1.1 in c:\\users\\e9402338\\appdata\\roaming\\python\\python313\\site-packages (from ipykernel==6.29.5->-r ../requirements.txt (line 4)) (0.2.2)\n",
      "Requirement already satisfied: debugpy>=1.6.5 in c:\\users\\e9402338\\appdata\\roaming\\python\\python313\\site-packages (from ipykernel==6.29.5->-r ../requirements.txt (line 4)) (1.8.13)\n",
      "Requirement already satisfied: jupyter-client>=6.1.12 in c:\\users\\e9402338\\appdata\\roaming\\python\\python313\\site-packages (from ipykernel==6.29.5->-r ../requirements.txt (line 4)) (8.6.3)\n",
      "Requirement already satisfied: jupyter-core!=5.0.*,>=4.12 in c:\\users\\e9402338\\appdata\\roaming\\python\\python313\\site-packages (from ipykernel==6.29.5->-r ../requirements.txt (line 4)) (5.7.2)\n",
      "Requirement already satisfied: matplotlib-inline>=0.1 in c:\\users\\e9402338\\appdata\\roaming\\python\\python313\\site-packages (from ipykernel==6.29.5->-r ../requirements.txt (line 4)) (0.1.7)\n",
      "Requirement already satisfied: nest-asyncio in c:\\users\\e9402338\\appdata\\roaming\\python\\python313\\site-packages (from ipykernel==6.29.5->-r ../requirements.txt (line 4)) (1.6.0)\n",
      "Requirement already satisfied: packaging in c:\\users\\e9402338\\appdata\\roaming\\python\\python313\\site-packages (from ipykernel==6.29.5->-r ../requirements.txt (line 4)) (24.2)\n",
      "Requirement already satisfied: psutil in c:\\users\\e9402338\\appdata\\roaming\\python\\python313\\site-packages (from ipykernel==6.29.5->-r ../requirements.txt (line 4)) (7.0.0)\n",
      "Requirement already satisfied: pyzmq>=24 in c:\\users\\e9402338\\appdata\\roaming\\python\\python313\\site-packages (from ipykernel==6.29.5->-r ../requirements.txt (line 4)) (26.3.0)\n",
      "Requirement already satisfied: tornado>=6.1 in c:\\users\\e9402338\\appdata\\roaming\\python\\python313\\site-packages (from ipykernel==6.29.5->-r ../requirements.txt (line 4)) (6.4.2)\n",
      "Requirement already satisfied: traitlets>=5.4.0 in c:\\users\\e9402338\\appdata\\roaming\\python\\python313\\site-packages (from ipykernel==6.29.5->-r ../requirements.txt (line 4)) (5.14.3)\n",
      "Requirement already satisfied: backcall in c:\\users\\e9402338\\appdata\\roaming\\python\\python313\\site-packages (from ipython==8.12.3->-r ../requirements.txt (line 5)) (0.2.0)\n",
      "Requirement already satisfied: decorator in c:\\users\\e9402338\\appdata\\roaming\\python\\python313\\site-packages (from ipython==8.12.3->-r ../requirements.txt (line 5)) (5.2.1)\n",
      "Requirement already satisfied: jedi>=0.16 in c:\\users\\e9402338\\appdata\\roaming\\python\\python313\\site-packages (from ipython==8.12.3->-r ../requirements.txt (line 5)) (0.19.2)\n",
      "Requirement already satisfied: pickleshare in c:\\users\\e9402338\\appdata\\roaming\\python\\python313\\site-packages (from ipython==8.12.3->-r ../requirements.txt (line 5)) (0.7.5)\n",
      "Requirement already satisfied: prompt-toolkit!=3.0.37,<3.1.0,>=3.0.30 in c:\\users\\e9402338\\appdata\\roaming\\python\\python313\\site-packages (from ipython==8.12.3->-r ../requirements.txt (line 5)) (3.0.50)\n",
      "Requirement already satisfied: pygments>=2.4.0 in c:\\users\\e9402338\\appdata\\roaming\\python\\python313\\site-packages (from ipython==8.12.3->-r ../requirements.txt (line 5)) (2.19.1)\n",
      "Requirement already satisfied: stack-data in c:\\users\\e9402338\\appdata\\roaming\\python\\python313\\site-packages (from ipython==8.12.3->-r ../requirements.txt (line 5)) (0.6.3)\n",
      "Requirement already satisfied: colorama in c:\\users\\e9402338\\appdata\\roaming\\python\\python313\\site-packages (from ipython==8.12.3->-r ../requirements.txt (line 5)) (0.4.6)\n",
      "Requirement already satisfied: widgetsnbextension~=4.0.12 in c:\\users\\e9402338\\appdata\\roaming\\python\\python313\\site-packages (from ipywidgets==8.1.5->-r ../requirements.txt (line 6)) (4.0.13)\n",
      "Requirement already satisfied: jupyterlab-widgets~=3.0.12 in c:\\users\\e9402338\\appdata\\roaming\\python\\python313\\site-packages (from ipywidgets==8.1.5->-r ../requirements.txt (line 6)) (3.0.13)\n",
      "Requirement already satisfied: fastjsonschema>=2.15 in c:\\users\\e9402338\\appdata\\roaming\\python\\python313\\site-packages (from nbformat==5.10.4->-r ../requirements.txt (line 8)) (2.21.1)\n",
      "Requirement already satisfied: jsonschema>=2.6 in c:\\users\\e9402338\\appdata\\roaming\\python\\python313\\site-packages (from nbformat==5.10.4->-r ../requirements.txt (line 8)) (4.23.0)\n",
      "Requirement already satisfied: cryptography>=1.3 in c:\\users\\e9402338\\appdata\\roaming\\python\\python313\\site-packages (from requests_ntlm==1.3.0->-r ../requirements.txt (line 10)) (44.0.2)\n",
      "Requirement already satisfied: pyspnego>=0.4.0 in c:\\users\\e9402338\\appdata\\roaming\\python\\python313\\site-packages (from requests_ntlm==1.3.0->-r ../requirements.txt (line 10)) (0.11.2)\n",
      "Requirement already satisfied: charset-normalizer<4,>=2 in c:\\users\\e9402338\\appdata\\roaming\\python\\python313\\site-packages (from requests==2.32.3->-r ../requirements.txt (line 11)) (3.4.1)\n",
      "Requirement already satisfied: idna<4,>=2.5 in c:\\users\\e9402338\\appdata\\roaming\\python\\python313\\site-packages (from requests==2.32.3->-r ../requirements.txt (line 11)) (3.10)\n",
      "Requirement already satisfied: urllib3<3,>=1.21.1 in c:\\users\\e9402338\\appdata\\roaming\\python\\python313\\site-packages (from requests==2.32.3->-r ../requirements.txt (line 11)) (2.3.0)\n",
      "Requirement already satisfied: certifi>=2017.4.17 in c:\\users\\e9402338\\appdata\\roaming\\python\\python313\\site-packages (from requests==2.32.3->-r ../requirements.txt (line 11)) (2025.1.31)\n",
      "Requirement already satisfied: cffi>=1.12 in c:\\users\\e9402338\\appdata\\roaming\\python\\python313\\site-packages (from cryptography>=1.3->requests_ntlm==1.3.0->-r ../requirements.txt (line 10)) (1.17.1)\n",
      "Requirement already satisfied: parso<0.9.0,>=0.8.4 in c:\\users\\e9402338\\appdata\\roaming\\python\\python313\\site-packages (from jedi>=0.16->ipython==8.12.3->-r ../requirements.txt (line 5)) (0.8.4)\n",
      "Requirement already satisfied: attrs>=22.2.0 in c:\\users\\e9402338\\appdata\\roaming\\python\\python313\\site-packages (from jsonschema>=2.6->nbformat==5.10.4->-r ../requirements.txt (line 8)) (25.3.0)\n",
      "Requirement already satisfied: jsonschema-specifications>=2023.03.6 in c:\\users\\e9402338\\appdata\\roaming\\python\\python313\\site-packages (from jsonschema>=2.6->nbformat==5.10.4->-r ../requirements.txt (line 8)) (2024.10.1)\n",
      "Requirement already satisfied: referencing>=0.28.4 in c:\\users\\e9402338\\appdata\\roaming\\python\\python313\\site-packages (from jsonschema>=2.6->nbformat==5.10.4->-r ../requirements.txt (line 8)) (0.36.2)\n",
      "Requirement already satisfied: rpds-py>=0.7.1 in c:\\users\\e9402338\\appdata\\roaming\\python\\python313\\site-packages (from jsonschema>=2.6->nbformat==5.10.4->-r ../requirements.txt (line 8)) (0.24.0)\n",
      "Requirement already satisfied: python-dateutil>=2.8.2 in c:\\users\\e9402338\\appdata\\roaming\\python\\python313\\site-packages (from jupyter-client>=6.1.12->ipykernel==6.29.5->-r ../requirements.txt (line 4)) (2.9.0.post0)\n",
      "Requirement already satisfied: platformdirs>=2.5 in c:\\users\\e9402338\\appdata\\roaming\\python\\python313\\site-packages (from jupyter-core!=5.0.*,>=4.12->ipykernel==6.29.5->-r ../requirements.txt (line 4)) (4.3.7)\n",
      "Requirement already satisfied: pywin32>=300 in c:\\users\\e9402338\\appdata\\roaming\\python\\python313\\site-packages (from jupyter-core!=5.0.*,>=4.12->ipykernel==6.29.5->-r ../requirements.txt (line 4)) (310)\n",
      "Requirement already satisfied: wcwidth in c:\\users\\e9402338\\appdata\\roaming\\python\\python313\\site-packages (from prompt-toolkit!=3.0.37,<3.1.0,>=3.0.30->ipython==8.12.3->-r ../requirements.txt (line 5)) (0.2.13)\n",
      "Requirement already satisfied: sspilib>=0.1.0 in c:\\users\\e9402338\\appdata\\roaming\\python\\python313\\site-packages (from pyspnego>=0.4.0->requests_ntlm==1.3.0->-r ../requirements.txt (line 10)) (0.2.0)\n",
      "Requirement already satisfied: setuptools in c:\\users\\e9402338\\appdata\\roaming\\python\\python313\\site-packages (from docxcompose->docxtpl==0.19.1->-r ../requirements.txt (line 3)) (78.1.0)\n",
      "Requirement already satisfied: six in c:\\users\\e9402338\\appdata\\roaming\\python\\python313\\site-packages (from docxcompose->docxtpl==0.19.1->-r ../requirements.txt (line 3)) (1.17.0)\n",
      "Requirement already satisfied: babel in c:\\users\\e9402338\\appdata\\roaming\\python\\python313\\site-packages (from docxcompose->docxtpl==0.19.1->-r ../requirements.txt (line 3)) (2.17.0)\n",
      "Requirement already satisfied: MarkupSafe>=2.0 in c:\\users\\e9402338\\appdata\\roaming\\python\\python313\\site-packages (from jinja2->docxtpl==0.19.1->-r ../requirements.txt (line 3)) (3.0.2)\n",
      "Requirement already satisfied: executing>=1.2.0 in c:\\users\\e9402338\\appdata\\roaming\\python\\python313\\site-packages (from stack-data->ipython==8.12.3->-r ../requirements.txt (line 5)) (2.2.0)\n",
      "Requirement already satisfied: asttokens>=2.1.0 in c:\\users\\e9402338\\appdata\\roaming\\python\\python313\\site-packages (from stack-data->ipython==8.12.3->-r ../requirements.txt (line 5)) (3.0.0)\n",
      "Requirement already satisfied: pure-eval in c:\\users\\e9402338\\appdata\\roaming\\python\\python313\\site-packages (from stack-data->ipython==8.12.3->-r ../requirements.txt (line 5)) (0.2.3)\n",
      "Requirement already satisfied: pycparser in c:\\users\\e9402338\\appdata\\roaming\\python\\python313\\site-packages (from cffi>=1.12->cryptography>=1.3->requests_ntlm==1.3.0->-r ../requirements.txt (line 10)) (2.22)\n"
     ]
    }
   ],
   "source": [
    "! python -m pip install -r ../requirements.txt"
   ]
  },
  {
   "cell_type": "code",
   "execution_count": 47,
   "metadata": {},
   "outputs": [
    {
     "name": "stdout",
     "output_type": "stream",
     "text": [
      "📘 Added src directory to the path: ../src/\n"
     ]
    }
   ],
   "source": [
    "# Add the src directory to the path\n",
    "\n",
    "import sys\n",
    "\n",
    "src_path = \"../src/\"\n",
    "\n",
    "sys.path.append(src_path)\n",
    "print(f\"📘 Added src directory to the path: {src_path}\")"
   ]
  },
  {
   "cell_type": "code",
   "execution_count": 48,
   "metadata": {},
   "outputs": [
    {
     "name": "stdout",
     "output_type": "stream",
     "text": [
      "🔹 Unit of Competency Code: CUADIG304\n"
     ]
    }
   ],
   "source": [
    "# Get the unit of competency code from the user\n",
    "\n",
    "import re\n",
    "from utils import StopExecution\n",
    "\n",
    "while True:\n",
    "    unit_code = input(\"Enter the unit of competency code: \")\n",
    "\n",
    "    if unit_code == \"\":\n",
    "        print(\"🟤 Input aborted by user\")\n",
    "        raise StopExecution\n",
    "\n",
    "    if not re.match(r'[A-Z]{3}[A-Z]{3}\\d{3}', unit_code):\n",
    "        print(\"🟠 Invalid unit code. Please try again.\")\n",
    "        continue\n",
    "    else:\n",
    "        print(f\"🔹 Unit of Competency Code: {unit_code}\")\n",
    "        break\n",
    "\n"
   ]
  },
  {
   "cell_type": "code",
   "execution_count": 49,
   "metadata": {},
   "outputs": [
    {
     "name": "stdout",
     "output_type": "stream",
     "text": [
      "🔹 Unit Directory Path: ../Units/CUADIG304\n"
     ]
    }
   ],
   "source": [
    "# Get the unit directory path\n",
    "\n",
    "from utils import unit_path_from_code\n",
    "\n",
    "folder_path = unit_path_from_code(unit_code)\n",
    "print(f'🔹 Unit Directory Path: {folder_path}')"
   ]
  },
  {
   "cell_type": "code",
   "execution_count": 50,
   "metadata": {},
   "outputs": [
    {
     "name": "stdout",
     "output_type": "stream",
     "text": [
      "🟢 Successfully retrieved XML file.\n"
     ]
    }
   ],
   "source": [
    "# Create the unit directory\n",
    "\n",
    "import requests\n",
    "from utils import get_unit_xml_url, StopExecution\n",
    "\n",
    "# Get the XML file from the training.gov.au website\n",
    "url = get_unit_xml_url(unit_code)\n",
    "response = requests.get(url)\n",
    "\n",
    "if response.status_code == 200:\n",
    "  print(f\"🟢 Successfully retrieved XML file.\")\n",
    "  # print(f\"Content: {response.content}\")\n",
    "  \n",
    "elif response.status_code == 404:\n",
    "  print(f\"🔴 XML file not found. Status code: {response.status_code}\")\n",
    "  print(f\"🔵 Please check the unit code and try again.\")\n",
    "  raise StopExecution\n",
    "\n",
    "else:\n",
    "  print(f\"🔴 Failed to retrieve XML file. Status code: {response.status_code}\")\n",
    "  raise StopExecution"
   ]
  },
  {
   "cell_type": "code",
   "execution_count": 51,
   "metadata": {},
   "outputs": [
    {
     "name": "stdout",
     "output_type": "stream",
     "text": [
      "🟢 Successfully parsed the XML file\n"
     ]
    }
   ],
   "source": [
    "# Parse the XML file\n",
    "\n",
    "from lxml import etree\n",
    "\n",
    "root = etree.fromstring(response.content)\n",
    "\n",
    "print(\"🟢 Successfully parsed the XML file\")"
   ]
  },
  {
   "cell_type": "code",
   "execution_count": 52,
   "metadata": {},
   "outputs": [
    {
     "name": "stdout",
     "output_type": "stream",
     "text": [
      "🟢 Successfully extracted Unit Title.\n"
     ]
    }
   ],
   "source": [
    "# Extract Unit Title\n",
    "\n",
    "from utils import namespaces\n",
    "\n",
    "xpath = './/a:Book[.//a:Description[contains(text(), \"Release\")]]//a:VariableAssignments/a:VariableAssignment[./a:Name/text()=\"Title\"]/a:Value/text()'\n",
    "unit_title = root.xpath(xpath, namespaces=namespaces)[0]\n",
    "\n",
    "print(\"🟢 Successfully extracted Unit Title.\")"
   ]
  },
  {
   "cell_type": "code",
   "execution_count": 53,
   "metadata": {},
   "outputs": [
    {
     "name": "stdout",
     "output_type": "stream",
     "text": [
      "🟢 Successfully extracted Elements and Performance criteria.\n"
     ]
    }
   ],
   "source": [
    "# Extract Elements and Performance Criteria\n",
    "\n",
    "xpath = './/a:Topic[.//a:Description[text()=$topic_title]]'\n",
    "topic_title=\"Elements and Performance Criteria\"\n",
    "topic = root.xpath(xpath, namespaces=namespaces, topic_title=topic_title)[0]\n",
    "rows = topic.xpath('./a:Text/a:table/a:tr[position() > 2]', namespaces=namespaces)\n",
    "\n",
    "elements = []\n",
    "for row in rows:\n",
    "    element = row.xpath('./a:td[1]/a:p/text()', namespaces=namespaces)[0]\n",
    "    [element_index, element_title] = str.split(element, '. ', 1)\n",
    "    performance_criteria = row.xpath('./a:td[2]/a:p/text()', namespaces=namespaces)\n",
    "    def split_pc(x):\n",
    "        [index, description] = x.split(' ', 1)\n",
    "        return {'index': index, 'description': description}.copy()\n",
    "    \n",
    "    performance_criteria = list(map(split_pc, performance_criteria))\n",
    "    elements.append({'index': element_index, 'title':element_title, 'performance_criteria': performance_criteria})\n",
    "\n",
    "print(\"🟢 Successfully extracted Elements and Performance criteria.\")"
   ]
  },
  {
   "cell_type": "code",
   "execution_count": 54,
   "metadata": {},
   "outputs": [
    {
     "name": "stdout",
     "output_type": "stream",
     "text": [
      "🟢 Successfully extracted Foundation Skills.\n"
     ]
    }
   ],
   "source": [
    "# Extract Foundation Skills\n",
    "\n",
    "xpath = './/a:Topic[.//a:Description[text()=$topic_title]]'\n",
    "topic_title=\"Foundation Skills\"\n",
    "topic = root.xpath(xpath, namespaces=namespaces, topic_title=topic_title)[0]\n",
    "rows = topic.xpath('./a:Text/a:table/a:tr[position() > 1]', namespaces=namespaces)\n",
    "\n",
    "foundational_skills = []\n",
    "for row in rows:\n",
    "    skill = row.xpath('./a:td[1]/a:p/text()', namespaces=namespaces)[0]\n",
    "    descriptions = row.xpath('./a:td[last()]/a:p/text()', namespaces=namespaces)\n",
    "\n",
    "    if row.xpath('./a:td[2]', namespaces=namespaces) != row.xpath('./a:td[last()]', namespaces=namespaces):\n",
    "        _performance_criteria = row.xpath('./a:td[2]/a:p/text()', namespaces=namespaces)[0].split(', ')\n",
    "    else:\n",
    "        _performance_criteria = []\n",
    "    \n",
    "    foundational_skills.append({\n",
    "      'skill': skill,\n",
    "      'performance_criteria': _performance_criteria,\n",
    "      'descriptions': descriptions,\n",
    "    })\n",
    "\n",
    "print(\"🟢 Successfully extracted Foundation Skills.\")"
   ]
  },
  {
   "cell_type": "code",
   "execution_count": 55,
   "metadata": {},
   "outputs": [
    {
     "name": "stdout",
     "output_type": "stream",
     "text": [
      "🟢 Successfully extracted Performance Evidence.\n"
     ]
    }
   ],
   "source": [
    "# Extract Performance Evidence\n",
    "\n",
    "xpath = './/a:Topic[.//a:Description[text()=$topic_title]]'\n",
    "topic_title=\"Performance Evidence\"\n",
    "topic = root.xpath(xpath, namespaces=namespaces, topic_title=topic_title)[0]\n",
    "performance_evidence = topic.xpath('./a:Text/a:p/text()', namespaces=namespaces)\n",
    "\n",
    "print(\"🟢 Successfully extracted Performance Evidence.\")"
   ]
  },
  {
   "cell_type": "code",
   "execution_count": 56,
   "metadata": {},
   "outputs": [
    {
     "name": "stdout",
     "output_type": "stream",
     "text": [
      "🟢 Successfully extracted Knowledge Evidence.\n"
     ]
    }
   ],
   "source": [
    "# Extract Knowledge Evidence\n",
    "\n",
    "xpath = './/a:Topic[.//a:Description[text()=$topic_title]]'\n",
    "topic_title=\"Knowledge Evidence\"\n",
    "topic = root.xpath(xpath, namespaces=namespaces, topic_title=topic_title)[0]\n",
    "knowledge_evidence = topic.xpath('./a:Text/a:p/text()', namespaces=namespaces)\n",
    "\n",
    "print(\"🟢 Successfully extracted Knowledge Evidence.\")"
   ]
  },
  {
   "cell_type": "code",
   "execution_count": 57,
   "metadata": {},
   "outputs": [
    {
     "name": "stdout",
     "output_type": "stream",
     "text": [
      "🟢 Successfully extracted Assessment Conditions.\n"
     ]
    }
   ],
   "source": [
    "# Extract Assessment Conditions\n",
    "\n",
    "xpath = './/a:Topic[.//a:Description[text()=$topic_title]]'\n",
    "topic_title=\"Assessment Conditions\"\n",
    "topic = root.xpath(xpath, namespaces=namespaces, topic_title=topic_title)[0]\n",
    "assessment_conditions = topic.xpath('./a:Text/a:p/text()', namespaces=namespaces)\n",
    "\n",
    "print(\"🟢 Successfully extracted Assessment Conditions.\")"
   ]
  },
  {
   "cell_type": "code",
   "execution_count": 58,
   "metadata": {},
   "outputs": [
    {
     "name": "stdout",
     "output_type": "stream",
     "text": [
      "🟢 Successfully saved unit details to: ../Units/CUADIG304/CUADIG304_details.json\n"
     ]
    }
   ],
   "source": [
    "# Save the extracted details to a file\n",
    "\n",
    "import json\n",
    "import os\n",
    "\n",
    "uoc = {\n",
    "    \"unit_code\": unit_code,\n",
    "    \"unit_title\": unit_title,\n",
    "    \"elements\": elements,\n",
    "\n",
    "    \"foundational_skills\": foundational_skills,\n",
    "    \"performance_evidence\": performance_evidence,\n",
    "    \"knowledge_evidence\": knowledge_evidence,\n",
    "    \"assessment_conditions\": assessment_conditions,\n",
    "}\n",
    "\n",
    "# Create the folder if it doesn't exist\n",
    "os.makedirs(folder_path, exist_ok=True)\n",
    "\n",
    "# Save the details to a file\n",
    "filename = os.path.join(folder_path, f\"{unit_code}_details.json\").replace(\"\\\\\", \"/\")\n",
    "\n",
    "with open(filename, \"w\") as file:\n",
    "    json.dump(uoc, file, indent=2) # pretty print\n",
    "\n",
    "print(f\"🟢 Successfully saved unit details to: {filename}\")"
   ]
  }
 ],
 "metadata": {
  "kernelspec": {
   "display_name": "Python 3",
   "language": "python",
   "name": "python3"
  },
  "language_info": {
   "codemirror_mode": {
    "name": "ipython",
    "version": 3
   },
   "file_extension": ".py",
   "mimetype": "text/x-python",
   "name": "python",
   "nbconvert_exporter": "python",
   "pygments_lexer": "ipython3",
   "version": "3.13.1"
  }
 },
 "nbformat": 4,
 "nbformat_minor": 2
}

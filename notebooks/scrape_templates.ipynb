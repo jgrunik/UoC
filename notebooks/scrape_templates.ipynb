{
 "cells": [
  {
   "cell_type": "markdown",
   "metadata": {},
   "source": [
    "# Scrape Templates\n",
    "---\n",
    "### ▶▶ Run All\n",
    "---"
   ]
  },
  {
   "cell_type": "code",
   "execution_count": 1,
   "metadata": {},
   "outputs": [
    {
     "name": "stdout",
     "output_type": "stream",
     "text": [
      "Defaulting to user installation because normal site-packages is not writeable\n",
      "Requirement already satisfied: beautifulsoup4==4.13.3 in c:\\users\\e9402338\\appdata\\roaming\\python\\python313\\site-packages (from -r ../requirements.txt (line 1)) (4.13.3)\n",
      "Requirement already satisfied: bs4==0.0.2 in c:\\users\\e9402338\\appdata\\roaming\\python\\python313\\site-packages (from -r ../requirements.txt (line 2)) (0.0.2)\n",
      "Requirement already satisfied: docxtpl==0.19.1 in c:\\users\\e9402338\\appdata\\roaming\\python\\python313\\site-packages (from -r ../requirements.txt (line 3)) (0.19.1)\n",
      "Requirement already satisfied: ipykernel==6.29.5 in c:\\users\\e9402338\\appdata\\roaming\\python\\python313\\site-packages (from -r ../requirements.txt (line 4)) (6.29.5)\n",
      "Requirement already satisfied: ipython==8.12.3 in c:\\users\\e9402338\\appdata\\roaming\\python\\python313\\site-packages (from -r ../requirements.txt (line 5)) (8.12.3)\n",
      "Requirement already satisfied: ipywidgets==8.1.5 in c:\\users\\e9402338\\appdata\\roaming\\python\\python313\\site-packages (from -r ../requirements.txt (line 6)) (8.1.5)\n",
      "Requirement already satisfied: lxml==5.3.1 in c:\\users\\e9402338\\appdata\\roaming\\python\\python313\\site-packages (from -r ../requirements.txt (line 7)) (5.3.1)\n",
      "Requirement already satisfied: requests_ntlm==1.3.0 in c:\\users\\e9402338\\appdata\\roaming\\python\\python313\\site-packages (from -r ../requirements.txt (line 8)) (1.3.0)\n",
      "Requirement already satisfied: requests==2.32.3 in c:\\users\\e9402338\\appdata\\roaming\\python\\python313\\site-packages (from -r ../requirements.txt (line 9)) (2.32.3)\n",
      "Requirement already satisfied: soupsieve>1.2 in c:\\users\\e9402338\\appdata\\roaming\\python\\python313\\site-packages (from beautifulsoup4==4.13.3->-r ../requirements.txt (line 1)) (2.6)\n",
      "Requirement already satisfied: typing-extensions>=4.0.0 in c:\\users\\e9402338\\appdata\\roaming\\python\\python313\\site-packages (from beautifulsoup4==4.13.3->-r ../requirements.txt (line 1)) (4.13.0)\n",
      "Requirement already satisfied: python-docx>=1.1.1 in c:\\users\\e9402338\\appdata\\roaming\\python\\python313\\site-packages (from docxtpl==0.19.1->-r ../requirements.txt (line 3)) (1.1.2)\n",
      "Requirement already satisfied: docxcompose in c:\\users\\e9402338\\appdata\\roaming\\python\\python313\\site-packages (from docxtpl==0.19.1->-r ../requirements.txt (line 3)) (1.4.0)\n",
      "Requirement already satisfied: jinja2 in c:\\users\\e9402338\\appdata\\roaming\\python\\python313\\site-packages (from docxtpl==0.19.1->-r ../requirements.txt (line 3)) (3.1.6)\n",
      "Requirement already satisfied: comm>=0.1.1 in c:\\users\\e9402338\\appdata\\roaming\\python\\python313\\site-packages (from ipykernel==6.29.5->-r ../requirements.txt (line 4)) (0.2.2)\n",
      "Requirement already satisfied: debugpy>=1.6.5 in c:\\users\\e9402338\\appdata\\roaming\\python\\python313\\site-packages (from ipykernel==6.29.5->-r ../requirements.txt (line 4)) (1.8.13)\n",
      "Requirement already satisfied: jupyter-client>=6.1.12 in c:\\users\\e9402338\\appdata\\roaming\\python\\python313\\site-packages (from ipykernel==6.29.5->-r ../requirements.txt (line 4)) (8.6.3)\n",
      "Requirement already satisfied: jupyter-core!=5.0.*,>=4.12 in c:\\users\\e9402338\\appdata\\roaming\\python\\python313\\site-packages (from ipykernel==6.29.5->-r ../requirements.txt (line 4)) (5.7.2)\n",
      "Requirement already satisfied: matplotlib-inline>=0.1 in c:\\users\\e9402338\\appdata\\roaming\\python\\python313\\site-packages (from ipykernel==6.29.5->-r ../requirements.txt (line 4)) (0.1.7)\n",
      "Requirement already satisfied: nest-asyncio in c:\\users\\e9402338\\appdata\\roaming\\python\\python313\\site-packages (from ipykernel==6.29.5->-r ../requirements.txt (line 4)) (1.6.0)\n",
      "Requirement already satisfied: packaging in c:\\users\\e9402338\\appdata\\roaming\\python\\python313\\site-packages (from ipykernel==6.29.5->-r ../requirements.txt (line 4)) (24.2)\n",
      "Requirement already satisfied: psutil in c:\\users\\e9402338\\appdata\\roaming\\python\\python313\\site-packages (from ipykernel==6.29.5->-r ../requirements.txt (line 4)) (7.0.0)\n",
      "Requirement already satisfied: pyzmq>=24 in c:\\users\\e9402338\\appdata\\roaming\\python\\python313\\site-packages (from ipykernel==6.29.5->-r ../requirements.txt (line 4)) (26.3.0)\n",
      "Requirement already satisfied: tornado>=6.1 in c:\\users\\e9402338\\appdata\\roaming\\python\\python313\\site-packages (from ipykernel==6.29.5->-r ../requirements.txt (line 4)) (6.4.2)\n",
      "Requirement already satisfied: traitlets>=5.4.0 in c:\\users\\e9402338\\appdata\\roaming\\python\\python313\\site-packages (from ipykernel==6.29.5->-r ../requirements.txt (line 4)) (5.14.3)\n",
      "Requirement already satisfied: backcall in c:\\users\\e9402338\\appdata\\roaming\\python\\python313\\site-packages (from ipython==8.12.3->-r ../requirements.txt (line 5)) (0.2.0)\n",
      "Requirement already satisfied: decorator in c:\\users\\e9402338\\appdata\\roaming\\python\\python313\\site-packages (from ipython==8.12.3->-r ../requirements.txt (line 5)) (5.2.1)\n",
      "Requirement already satisfied: jedi>=0.16 in c:\\users\\e9402338\\appdata\\roaming\\python\\python313\\site-packages (from ipython==8.12.3->-r ../requirements.txt (line 5)) (0.19.2)\n",
      "Requirement already satisfied: pickleshare in c:\\users\\e9402338\\appdata\\roaming\\python\\python313\\site-packages (from ipython==8.12.3->-r ../requirements.txt (line 5)) (0.7.5)\n",
      "Requirement already satisfied: prompt-toolkit!=3.0.37,<3.1.0,>=3.0.30 in c:\\users\\e9402338\\appdata\\roaming\\python\\python313\\site-packages (from ipython==8.12.3->-r ../requirements.txt (line 5)) (3.0.50)\n",
      "Requirement already satisfied: pygments>=2.4.0 in c:\\users\\e9402338\\appdata\\roaming\\python\\python313\\site-packages (from ipython==8.12.3->-r ../requirements.txt (line 5)) (2.19.1)\n",
      "Requirement already satisfied: stack-data in c:\\users\\e9402338\\appdata\\roaming\\python\\python313\\site-packages (from ipython==8.12.3->-r ../requirements.txt (line 5)) (0.6.3)\n",
      "Requirement already satisfied: colorama in c:\\users\\e9402338\\appdata\\roaming\\python\\python313\\site-packages (from ipython==8.12.3->-r ../requirements.txt (line 5)) (0.4.6)\n",
      "Requirement already satisfied: widgetsnbextension~=4.0.12 in c:\\users\\e9402338\\appdata\\roaming\\python\\python313\\site-packages (from ipywidgets==8.1.5->-r ../requirements.txt (line 6)) (4.0.13)\n",
      "Requirement already satisfied: jupyterlab-widgets~=3.0.12 in c:\\users\\e9402338\\appdata\\roaming\\python\\python313\\site-packages (from ipywidgets==8.1.5->-r ../requirements.txt (line 6)) (3.0.13)\n",
      "Requirement already satisfied: cryptography>=1.3 in c:\\users\\e9402338\\appdata\\roaming\\python\\python313\\site-packages (from requests_ntlm==1.3.0->-r ../requirements.txt (line 8)) (44.0.2)\n",
      "Requirement already satisfied: pyspnego>=0.4.0 in c:\\users\\e9402338\\appdata\\roaming\\python\\python313\\site-packages (from requests_ntlm==1.3.0->-r ../requirements.txt (line 8)) (0.11.2)\n",
      "Requirement already satisfied: charset-normalizer<4,>=2 in c:\\users\\e9402338\\appdata\\roaming\\python\\python313\\site-packages (from requests==2.32.3->-r ../requirements.txt (line 9)) (3.4.1)\n",
      "Requirement already satisfied: idna<4,>=2.5 in c:\\users\\e9402338\\appdata\\roaming\\python\\python313\\site-packages (from requests==2.32.3->-r ../requirements.txt (line 9)) (3.10)\n",
      "Requirement already satisfied: urllib3<3,>=1.21.1 in c:\\users\\e9402338\\appdata\\roaming\\python\\python313\\site-packages (from requests==2.32.3->-r ../requirements.txt (line 9)) (2.3.0)\n",
      "Requirement already satisfied: certifi>=2017.4.17 in c:\\users\\e9402338\\appdata\\roaming\\python\\python313\\site-packages (from requests==2.32.3->-r ../requirements.txt (line 9)) (2025.1.31)\n",
      "Requirement already satisfied: cffi>=1.12 in c:\\users\\e9402338\\appdata\\roaming\\python\\python313\\site-packages (from cryptography>=1.3->requests_ntlm==1.3.0->-r ../requirements.txt (line 8)) (1.17.1)\n",
      "Requirement already satisfied: parso<0.9.0,>=0.8.4 in c:\\users\\e9402338\\appdata\\roaming\\python\\python313\\site-packages (from jedi>=0.16->ipython==8.12.3->-r ../requirements.txt (line 5)) (0.8.4)\n",
      "Requirement already satisfied: python-dateutil>=2.8.2 in c:\\users\\e9402338\\appdata\\roaming\\python\\python313\\site-packages (from jupyter-client>=6.1.12->ipykernel==6.29.5->-r ../requirements.txt (line 4)) (2.9.0.post0)\n",
      "Requirement already satisfied: platformdirs>=2.5 in c:\\users\\e9402338\\appdata\\roaming\\python\\python313\\site-packages (from jupyter-core!=5.0.*,>=4.12->ipykernel==6.29.5->-r ../requirements.txt (line 4)) (4.3.7)\n",
      "Requirement already satisfied: pywin32>=300 in c:\\users\\e9402338\\appdata\\roaming\\python\\python313\\site-packages (from jupyter-core!=5.0.*,>=4.12->ipykernel==6.29.5->-r ../requirements.txt (line 4)) (310)\n",
      "Requirement already satisfied: wcwidth in c:\\users\\e9402338\\appdata\\roaming\\python\\python313\\site-packages (from prompt-toolkit!=3.0.37,<3.1.0,>=3.0.30->ipython==8.12.3->-r ../requirements.txt (line 5)) (0.2.13)\n",
      "Requirement already satisfied: sspilib>=0.1.0 in c:\\users\\e9402338\\appdata\\roaming\\python\\python313\\site-packages (from pyspnego>=0.4.0->requests_ntlm==1.3.0->-r ../requirements.txt (line 8)) (0.2.0)\n",
      "Requirement already satisfied: setuptools in c:\\users\\e9402338\\appdata\\roaming\\python\\python313\\site-packages (from docxcompose->docxtpl==0.19.1->-r ../requirements.txt (line 3)) (78.1.0)\n",
      "Requirement already satisfied: six in c:\\users\\e9402338\\appdata\\roaming\\python\\python313\\site-packages (from docxcompose->docxtpl==0.19.1->-r ../requirements.txt (line 3)) (1.17.0)\n",
      "Requirement already satisfied: babel in c:\\users\\e9402338\\appdata\\roaming\\python\\python313\\site-packages (from docxcompose->docxtpl==0.19.1->-r ../requirements.txt (line 3)) (2.17.0)\n",
      "Requirement already satisfied: MarkupSafe>=2.0 in c:\\users\\e9402338\\appdata\\roaming\\python\\python313\\site-packages (from jinja2->docxtpl==0.19.1->-r ../requirements.txt (line 3)) (3.0.2)\n",
      "Requirement already satisfied: executing>=1.2.0 in c:\\users\\e9402338\\appdata\\roaming\\python\\python313\\site-packages (from stack-data->ipython==8.12.3->-r ../requirements.txt (line 5)) (2.2.0)\n",
      "Requirement already satisfied: asttokens>=2.1.0 in c:\\users\\e9402338\\appdata\\roaming\\python\\python313\\site-packages (from stack-data->ipython==8.12.3->-r ../requirements.txt (line 5)) (3.0.0)\n",
      "Requirement already satisfied: pure-eval in c:\\users\\e9402338\\appdata\\roaming\\python\\python313\\site-packages (from stack-data->ipython==8.12.3->-r ../requirements.txt (line 5)) (0.2.3)\n",
      "Requirement already satisfied: pycparser in c:\\users\\e9402338\\appdata\\roaming\\python\\python313\\site-packages (from cffi>=1.12->cryptography>=1.3->requests_ntlm==1.3.0->-r ../requirements.txt (line 8)) (2.22)\n"
     ]
    }
   ],
   "source": [
    "! python -m pip install -r ../requirements.txt"
   ]
  },
  {
   "cell_type": "code",
   "execution_count": 2,
   "metadata": {},
   "outputs": [
    {
     "name": "stdout",
     "output_type": "stream",
     "text": [
      "📘 Added src directory to the path: ../src/\n"
     ]
    }
   ],
   "source": [
    "# Add the src directory to the path\n",
    "\n",
    "import sys\n",
    "\n",
    "src_path = \"../src/\"\n",
    "\n",
    "sys.path.append(src_path)\n",
    "print(f\"📘 Added src directory to the path: {src_path}\")"
   ]
  },
  {
   "cell_type": "code",
   "execution_count": 3,
   "metadata": {},
   "outputs": [
    {
     "name": "stdout",
     "output_type": "stream",
     "text": [
      "🔹 Username: e9402338\n"
     ]
    }
   ],
   "source": [
    "# Get username\n",
    "\n",
    "import os\n",
    "import re\n",
    "\n",
    "username = os.environ.get('Username')\n",
    "\n",
    "if not username or not re.match(r\"e\\d{7}\", username): # ask username if not staff id\n",
    "    username = input(\"Enter your staff e-number: \")\n",
    "\n",
    "print(f'🔹 Username: {username}')"
   ]
  },
  {
   "cell_type": "code",
   "execution_count": 4,
   "metadata": {},
   "outputs": [
    {
     "name": "stdout",
     "output_type": "stream",
     "text": [
      "🔵 Creating session for user: e9402338\n",
      "🔵 Attempting authentication...\n",
      "🟢 Authenticated user: e9402338\n",
      "🟢 Successfully loaded the VU Template site\n"
     ]
    }
   ],
   "source": [
    "# Load VU Template site\n",
    "\n",
    "import requests\n",
    "import getpass\n",
    "from requests_ntlm import HttpNtlmAuth\n",
    "from utils import templates_url, StopExecution\n",
    "\n",
    "print(f\"🔵 Creating session for user: {username}\")\n",
    "session = requests.Session()\n",
    "\n",
    "while True:\n",
    "  password = getpass.getpass(\"Enter your staff password: \")\n",
    "  session.auth = HttpNtlmAuth(username, password)\n",
    "\n",
    "  if password == '':\n",
    "    password = None  # Clear password\n",
    "    print(\"🟤 Session aborted by user\")\n",
    "    raise StopExecution\n",
    "  \n",
    "  password = None  # Clear password\n",
    "  print(\"🔵 Attempting authentication...\")\n",
    "  \n",
    "  try:\n",
    "    response = session.get(templates_url)\n",
    "    \n",
    "    if response.status_code == 200:\n",
    "      print(f\"🟢 Authenticated user: {username}\")\n",
    "      print(f\"🟢 Successfully loaded the VU Template site\")\n",
    "      break\n",
    "      \n",
    "    elif response.status_code == 401:\n",
    "      print(\"🔴 Authorization failed.\")\n",
    "      print(\"🟠 Please check your credentials and try again.\")\n",
    "      continue\n",
    "      \n",
    "    else:\n",
    "      print(f\"🔴 Unexpected response: {response.status_code}\")\n",
    "      raise StopExecution\n",
    "      \n",
    "  except requests.exceptions.ConnectionError as e:\n",
    "    if \"Failed to resolve\" in str(e) or \"[Errno 11001] getaddrinfo failed\" in str(e):\n",
    "      print(\n",
    "        \"🔴 Unable to connect to VU intranet.\\n\"\n",
    "        \"🟠 Please ensure you are:\\n\"\n",
    "        \"    > Connected directly to a VU network, or\\n\"\n",
    "        \"    > Connected remotely using Cisco AnyConnect\")\n",
    "      raise StopExecution\n"
   ]
  },
  {
   "cell_type": "code",
   "execution_count": 5,
   "metadata": {},
   "outputs": [
    {
     "name": "stdout",
     "output_type": "stream",
     "text": [
      "🟢 Successfully parsed HTML page\n"
     ]
    }
   ],
   "source": [
    "# Parse HTML of webpage\n",
    "\n",
    "from bs4 import BeautifulSoup\n",
    "soup = BeautifulSoup(response.text, \"html.parser\")\n",
    "\n",
    "print(\"🟢 Successfully parsed HTML page\")"
   ]
  },
  {
   "cell_type": "code",
   "execution_count": 6,
   "metadata": {},
   "outputs": [
    {
     "name": "stdout",
     "output_type": "stream",
     "text": [
      "🟢 Found 10 matching templates\n"
     ]
    }
   ],
   "source": [
    "# Find matching templates\n",
    "\n",
    "from utils import template_titles\n",
    "\n",
    "anchors = soup.find_all('a', href=True)\n",
    "# print(anchors)\n",
    "\n",
    "def clean_text(text):\n",
    "  # strip leading and trailing whitespace\n",
    "  # replace multiple whitespace with single space\n",
    "  return ' '.join(text.strip().split())\n",
    "\n",
    "matching_hrefs = []\n",
    "for a in anchors:\n",
    "    parent_tr = a.find_parent('tr')\n",
    "    sibling_td = parent_tr.find('td')\n",
    "    template_title = clean_text(sibling_td.get_text())\n",
    "    if (template_title in template_titles):\n",
    "      # print(template_title, '\\n', a['href'], '\\n')\n",
    "      matching_hrefs.append(a['href'])\n",
    "            \n",
    "# print(matching_hrefs)\n",
    "print(\"🟢 Found\", len(matching_hrefs), \"matching templates\")"
   ]
  },
  {
   "cell_type": "code",
   "execution_count": 8,
   "metadata": {},
   "outputs": [
    {
     "name": "stdout",
     "output_type": "stream",
     "text": [
      "🔹 Downloaded VETLearningandAssessmentPlan.docx ...\n",
      "🔹 Downloaded VET Learning Activity template v1.0.docx ...\n",
      "🔹 Downloaded WrittenAssesssmentTemplate v2.0.docx ...\n",
      "🔹 Downloaded VETUnitGuide.docx ...\n",
      "🔹 Downloaded VETAssessorGuide.docx ...\n",
      "🔹 Downloaded VETAssessmentMapping(CurrentUoC).docx ...\n",
      "🔹 Downloaded TAFEAssessmentCoverSheet.pdf ...\n",
      "🔹 Downloaded PracticalObservationAssessmentTemplatePortrait v2.0.docx ...\n",
      "🔹 Downloaded PracticalObservationAssessmentTemplateLandscape v2.0.docx ...\n",
      "🔹 Downloaded SkillsRecognitionAssessorKit.docx ...\n",
      "\n",
      "🟢 Completed downloading templates to: ../Templates/VU/\n",
      "🔹 Last downloaded on: 2025-03-27 10:57:01\n"
     ]
    }
   ],
   "source": [
    "# Download template files\n",
    "\n",
    "from datetime import datetime\n",
    "import os\n",
    "import shutil\n",
    "import urllib.parse\n",
    "from utils import Paths, base_url, StopExecution\n",
    "\n",
    "def download_file(url, file_path):\n",
    "  with session.get(url, stream=True) as r:\n",
    "    with open(file_path, 'wb') as f:\n",
    "      shutil.copyfileobj(r.raw, f)\n",
    "\n",
    "# create VU Templates directory, if it doesnt exist yet\n",
    "os.makedirs(Paths.VU_Templates, exist_ok=True)\n",
    "\n",
    "if len(matching_hrefs) == 0:\n",
    "  print(\"🔴 Found no matching files to download\")\n",
    "  raise StopExecution\n",
    "      \n",
    "for href in matching_hrefs:\n",
    "  file_name = urllib.parse.unquote(os.path.basename(href))\n",
    "  file_path = os.path.join(Paths.VU_Templates, file_name)\n",
    "  download_file(base_url + href, file_path)\n",
    "  print(f\"🔹 Downloaded {file_name} ...\")\n",
    "\n",
    "# Save a timestamp to a file\n",
    "with open(os.path.join(Paths.VU_Templates, \"last_downloaded.txt\"), \"w\") as f:\n",
    "  timestamp = datetime.now().strftime(\"%Y-%m-%d %H:%M:%S\")\n",
    "  f.write(timestamp)\n",
    "  \n",
    "print(f'\\n🟢 Completed downloading templates to: {Paths.VU_Templates}')\n",
    "print(f'🔹 Last downloaded on: {timestamp}')"
   ]
  }
 ],
 "metadata": {
  "kernelspec": {
   "display_name": "Python 3",
   "language": "python",
   "name": "python3"
  },
  "language_info": {
   "codemirror_mode": {
    "name": "ipython",
    "version": 3
   },
   "file_extension": ".py",
   "mimetype": "text/x-python",
   "name": "python",
   "nbconvert_exporter": "python",
   "pygments_lexer": "ipython3",
   "version": "3.13.1"
  }
 },
 "nbformat": 4,
 "nbformat_minor": 2
}
